{
 "cells": [
  {
   "cell_type": "markdown",
   "metadata": {},
   "source": [
    "FlashFlood is an event recorder and streamer built on top of AWS S3, supporting distributed writes and fast distributed bulk reads. It can be used to store and retrieve information about transactions and events in JSON format, which can be quickly filtered with JMESPath. This notebook briefly explores its use.\n",
    "\n",
    "Let's get started by instantiating an instance of the FlashFlood class:"
   ]
  },
  {
   "cell_type": "code",
   "execution_count": 1,
   "metadata": {},
   "outputs": [],
   "source": [
    "import boto3\n",
    "s3 = boto3.resource('s3')\n",
    "\n",
    "from flashflood import FlashFlood\n",
    "# You'll want to use any S3 bucket that you have access to.\n",
    "ff = FlashFlood(s3, \"my-flashflood-test-bucket\", \"my_prefix\")"
   ]
  },
  {
   "cell_type": "markdown",
   "metadata": {},
   "source": [
    "FlashFlood exposes a CRUD API for events:"
   ]
  },
  {
   "cell_type": "code",
   "execution_count": 2,
   "metadata": {},
   "outputs": [
    {
     "name": "stdout",
     "output_type": "stream",
     "text": [
      "Uploaded journal 2020-03-19T184045.516831Z--2020-03-19T184045.516831Z--new--80b94b04-72e0-4903-90e1-56880d8c992f\n",
      "new journal 2020-03-19T184045.516831Z--2020-03-19T184045.516831Z--new--80b94b04-72e0-4903-90e1-56880d8c992f\n",
      "This is the data: b'my event data'\n",
      "This is the date: 2020-03-19 18:40:45.516831\n",
      "This is the event ID: d3f90a85-06ea-4b39-9961-7156f2156bd6\n",
      "This is the updated data: b'my event data'\n"
     ]
    }
   ],
   "source": [
    "import datetime\n",
    "import uuid\n",
    "\n",
    "event_data = b'my event data'\n",
    "event_uuid = str(uuid.uuid4())\n",
    "event_date = datetime.datetime.now()\n",
    "\n",
    "ff.put(event_data, event_uuid, event_date)\n",
    "event = ff.get_event(event_uuid)\n",
    "print(\"This is the data: \" + str(event.data))\n",
    "print(\"This is the date: \" + str(event.date))\n",
    "print(\"This is the event ID: \" + event.event_id)\n",
    "\n",
    "new_event_data = b'i want to put new data'\n",
    "ff.update_event(event_uuid, new_event_data)\n",
    "print(\"This is the updated data: \" + str(ff.get_event(event_uuid).data))\n",
    "\n",
    "ff.delete_event(event_uuid)"
   ]
  },
  {
   "cell_type": "markdown",
   "metadata": {},
   "source": [
    "All events belong to a journal. Journals can be created ad-hoc or manually:"
   ]
  },
  {
   "cell_type": "code",
   "execution_count": 3,
   "metadata": {},
   "outputs": [
    {
     "name": "stdout",
     "output_type": "stream",
     "text": [
      "Found journal to combine 1969-12-31T160000.000000Z--1969-12-31T160000.000000Z--new--8d790487-666b-4299-bc89-71b1a2ceefab\n",
      "combining journal 1969-12-31T160000.000000Z--1969-12-31T160000.000000Z--new--8d790487-666b-4299-bc89-71b1a2ceefab\n",
      "Uploaded journal 1969-12-31T160000.000000Z--1969-12-31T160000.000000Z--2020-03-20T014048.825888Z--f382ad2e-3f45-4bfe-80b8-9a667f8f91b3\n"
     ]
    }
   ],
   "source": [
    "ff.journal(minimum_number_of_events=1)\n",
    "# See also ff.list_journals:\n",
    "#     def list_journals(self, from_date: datetime=None, to_date: datetime=None) -> typing.Iterator[JournalID]"
   ]
  },
  {
   "cell_type": "markdown",
   "metadata": {},
   "source": [
    "When events are created, they are assigned a date. You can stream events that have occurred between two dates. We'll create a bunch of dummy events, then try that:"
   ]
  },
  {
   "cell_type": "code",
   "execution_count": 4,
   "metadata": {},
   "outputs": [
    {
     "name": "stdout",
     "output_type": "stream",
     "text": [
      "Uploaded journal 1970-01-05T070640.000000Z--1970-01-05T070640.000000Z--new--62a718da-15fb-46d4-bca6-114bc8119d52\n",
      "new journal 1970-01-05T070640.000000Z--1970-01-05T070640.000000Z--new--62a718da-15fb-46d4-bca6-114bc8119d52\n",
      "Uploaded journal 1970-01-05T095320.000000Z--1970-01-05T095320.000000Z--new--c30f9720-d25d-417c-9ea1-34fbc1a9f0cc\n",
      "new journal 1970-01-05T095320.000000Z--1970-01-05T095320.000000Z--new--c30f9720-d25d-417c-9ea1-34fbc1a9f0cc\n",
      "Uploaded journal 1970-01-05T124000.000000Z--1970-01-05T124000.000000Z--new--9df9d4b4-deb6-4bee-9c8a-00ad846df92a\n",
      "new journal 1970-01-05T124000.000000Z--1970-01-05T124000.000000Z--new--9df9d4b4-deb6-4bee-9c8a-00ad846df92a\n",
      "Uploaded journal 1970-01-05T152640.000000Z--1970-01-05T152640.000000Z--new--21db50e4-40f9-4ab3-87fa-f89e3edf592b\n",
      "new journal 1970-01-05T152640.000000Z--1970-01-05T152640.000000Z--new--21db50e4-40f9-4ab3-87fa-f89e3edf592b\n",
      "Uploaded journal 1970-01-05T181320.000000Z--1970-01-05T181320.000000Z--new--dc08b579-9eeb-4bf7-95bd-adc3b2062cd0\n",
      "new journal 1970-01-05T181320.000000Z--1970-01-05T181320.000000Z--new--dc08b579-9eeb-4bf7-95bd-adc3b2062cd0\n",
      "Uploaded journal 1970-01-05T210000.000000Z--1970-01-05T210000.000000Z--new--216c64cf-53b4-433e-8cee-981847e8ccc3\n",
      "new journal 1970-01-05T210000.000000Z--1970-01-05T210000.000000Z--new--216c64cf-53b4-433e-8cee-981847e8ccc3\n",
      "Uploaded journal 1970-01-05T234640.000000Z--1970-01-05T234640.000000Z--new--315e66a0-cd7b-4119-8402-16024de320f2\n",
      "new journal 1970-01-05T234640.000000Z--1970-01-05T234640.000000Z--new--315e66a0-cd7b-4119-8402-16024de320f2\n",
      "Uploaded journal 1970-01-06T023320.000000Z--1970-01-06T023320.000000Z--new--04b9cc76-a129-4153-9b0d-524e3f5d5fcc\n",
      "new journal 1970-01-06T023320.000000Z--1970-01-06T023320.000000Z--new--04b9cc76-a129-4153-9b0d-524e3f5d5fcc\n",
      "Uploaded journal 1970-01-06T052000.000000Z--1970-01-06T052000.000000Z--new--bbf2269d-4faa-4e63-b71c-35bde72112f8\n",
      "new journal 1970-01-06T052000.000000Z--1970-01-06T052000.000000Z--new--bbf2269d-4faa-4e63-b71c-35bde72112f8\n",
      "Uploaded journal 1970-01-06T080640.000000Z--1970-01-06T080640.000000Z--new--0c44793e-1a43-44ca-b013-b4bd155fcf70\n",
      "new journal 1970-01-06T080640.000000Z--1970-01-06T080640.000000Z--new--0c44793e-1a43-44ca-b013-b4bd155fcf70\n",
      "replaying from journal 1970-01-05T124000.000000Z--1970-01-05T124000.000000Z--new--9df9d4b4-deb6-4bee-9c8a-00ad846df92a\n",
      "replaying from journal 1970-01-05T124000.000000Z--1970-01-05T124000.000000Z--new--ee8ef69e-f460-4ba6-b0db-6e4b3dc2ace5\n",
      "replaying from journal 1970-01-05T152640.000000Z--1970-01-05T152640.000000Z--new--21db50e4-40f9-4ab3-87fa-f89e3edf592b\n",
      "b'{\"mynum\": 43}'\n",
      "replaying from journal 1970-01-05T152640.000000Z--1970-01-05T152640.000000Z--new--e15c5bf6-10e5-4eb3-bca3-48a9aef08159\n",
      "b'{\"mynum\": 43}'\n",
      "replaying from journal 1970-01-05T181320.000000Z--1970-01-05T181320.000000Z--new--6462df35-648d-41a4-bbc1-793f76f384e9\n",
      "b'{\"mynum\": 44}'\n",
      "replaying from journal 1970-01-05T181320.000000Z--1970-01-05T181320.000000Z--new--dc08b579-9eeb-4bf7-95bd-adc3b2062cd0\n",
      "b'{\"mynum\": 44}'\n",
      "replaying from journal 1970-01-05T210000.000000Z--1970-01-05T210000.000000Z--new--216c64cf-53b4-433e-8cee-981847e8ccc3\n",
      "b'{\"mynum\": 45}'\n",
      "replaying from journal 1970-01-05T210000.000000Z--1970-01-05T210000.000000Z--new--d9419e46-582e-4932-9a91-ac1764940573\n",
      "b'{\"mynum\": 45}'\n",
      "replaying from journal 1970-01-05T234640.000000Z--1970-01-05T234640.000000Z--new--315e66a0-cd7b-4119-8402-16024de320f2\n",
      "b'{\"mynum\": 46}'\n",
      "replaying from journal 1970-01-05T234640.000000Z--1970-01-05T234640.000000Z--new--f2cd1e7e-c52f-4689-8039-1a13552c5f21\n",
      "b'{\"mynum\": 46}'\n",
      "replaying from journal 1970-01-06T023320.000000Z--1970-01-06T023320.000000Z--new--04b9cc76-a129-4153-9b0d-524e3f5d5fcc\n",
      "b'{\"mynum\": 47}'\n",
      "replaying from journal 1970-01-06T023320.000000Z--1970-01-06T023320.000000Z--new--d66c6b50-94dd-4784-8be2-c360bab935fa\n",
      "b'{\"mynum\": 47}'\n",
      "replaying from journal 1970-01-06T052000.000000Z--1970-01-06T052000.000000Z--new--bbf2269d-4faa-4e63-b71c-35bde72112f8\n",
      "b'{\"mynum\": 48}'\n",
      "replaying from journal 1970-01-06T052000.000000Z--1970-01-06T052000.000000Z--new--e590dc6e-a350-4ef6-b833-6e51b98c6908\n",
      "b'{\"mynum\": 48}'\n"
     ]
    }
   ],
   "source": [
    "import json\n",
    "\n",
    "for i in range(40, 50):\n",
    "    event_data = json.dumps({'mynum': i}).encode()\n",
    "    event_uuid = str(uuid.uuid4())\n",
    "    event_date = datetime.datetime.fromtimestamp(10000 * i)\n",
    "    ff.put(event_data, event_uuid, event_date)\n",
    "\n",
    "arbitrary_from_date = datetime.datetime.fromtimestamp(10000 * 42)\n",
    "arbitrary_to_date = datetime.datetime.fromtimestamp(10000 * 48)\n",
    "\n",
    "for event in ff.replay(from_date=arbitrary_from_date, to_date=arbitrary_to_date):\n",
    "    print(event.data)"
   ]
  },
  {
   "cell_type": "markdown",
   "metadata": {},
   "source": [
    "Since the event data is JSON, we can use JMESPath to filter it:"
   ]
  },
  {
   "cell_type": "code",
   "execution_count": 5,
   "metadata": {},
   "outputs": [
    {
     "name": "stdout",
     "output_type": "stream",
     "text": [
      "replaying from journal 1970-01-05T124000.000000Z--1970-01-05T124000.000000Z--new--9df9d4b4-deb6-4bee-9c8a-00ad846df92a\n",
      "replaying from journal 1970-01-05T124000.000000Z--1970-01-05T124000.000000Z--new--ee8ef69e-f460-4ba6-b0db-6e4b3dc2ace5\n",
      "replaying from journal 1970-01-05T152640.000000Z--1970-01-05T152640.000000Z--new--21db50e4-40f9-4ab3-87fa-f89e3edf592b\n",
      "replaying from journal 1970-01-05T152640.000000Z--1970-01-05T152640.000000Z--new--e15c5bf6-10e5-4eb3-bca3-48a9aef08159\n",
      "replaying from journal 1970-01-05T181320.000000Z--1970-01-05T181320.000000Z--new--6462df35-648d-41a4-bbc1-793f76f384e9\n",
      "replaying from journal 1970-01-05T181320.000000Z--1970-01-05T181320.000000Z--new--dc08b579-9eeb-4bf7-95bd-adc3b2062cd0\n",
      "replaying from journal 1970-01-05T210000.000000Z--1970-01-05T210000.000000Z--new--216c64cf-53b4-433e-8cee-981847e8ccc3\n",
      "replaying from journal 1970-01-05T210000.000000Z--1970-01-05T210000.000000Z--new--d9419e46-582e-4932-9a91-ac1764940573\n",
      "replaying from journal 1970-01-05T234640.000000Z--1970-01-05T234640.000000Z--new--315e66a0-cd7b-4119-8402-16024de320f2\n",
      "replaying from journal 1970-01-05T234640.000000Z--1970-01-05T234640.000000Z--new--f2cd1e7e-c52f-4689-8039-1a13552c5f21\n",
      "replaying from journal 1970-01-06T023320.000000Z--1970-01-06T023320.000000Z--new--04b9cc76-a129-4153-9b0d-524e3f5d5fcc\n",
      "replaying from journal 1970-01-06T023320.000000Z--1970-01-06T023320.000000Z--new--d66c6b50-94dd-4784-8be2-c360bab935fa\n",
      "replaying from journal 1970-01-06T052000.000000Z--1970-01-06T052000.000000Z--new--bbf2269d-4faa-4e63-b71c-35bde72112f8\n",
      "replaying from journal 1970-01-06T052000.000000Z--1970-01-06T052000.000000Z--new--e590dc6e-a350-4ef6-b833-6e51b98c6908\n"
     ]
    },
    {
     "data": {
      "text/plain": [
       "[43, 43, 44, 44, 45, 45, 46, 46, 47, 47, 48, 48]"
      ]
     },
     "execution_count": 5,
     "metadata": {},
     "output_type": "execute_result"
    }
   ],
   "source": [
    "import jmespath\n",
    "\n",
    "events = []\n",
    "for event in ff.replay(from_date=arbitrary_from_date, to_date=arbitrary_to_date):\n",
    "    events.append(json.loads(event.data))\n",
    "\n",
    "expression = jmespath.compile('events[].mynum')\n",
    "expression.search({'events': events})"
   ]
  }
 ],
 "metadata": {
  "kernelspec": {
   "display_name": "Python 3",
   "language": "python",
   "name": "python3"
  },
  "language_info": {
   "codemirror_mode": {
    "name": "ipython",
    "version": 3
   },
   "file_extension": ".py",
   "mimetype": "text/x-python",
   "name": "python",
   "nbconvert_exporter": "python",
   "pygments_lexer": "ipython3",
   "version": "3.6.9"
  }
 },
 "nbformat": 4,
 "nbformat_minor": 2
}
