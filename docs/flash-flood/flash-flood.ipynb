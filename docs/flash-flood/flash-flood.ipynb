{
 "cells": [
  {
   "cell_type": "markdown",
   "metadata": {},
   "source": [
    "# flash-flood User Vignette"
   ]
  },
  {
   "cell_type": "markdown",
   "metadata": {},
   "source": [
    "[flash-flood](https://github.com/HumanCellAtlas/flash-flood) is an event recorder and streamer built on top of AWS S3, supporting distributed writes and fast distributed bulk reads. It can be used to store and retrieve information about transactions and events in JSON format, which can be quickly filtered with JMESPath. In this notebook we demonstrate basic usage of the flash-flood library."
   ]
  },
  {
   "cell_type": "markdown",
   "metadata": {},
   "source": [
    "Let's get started by instantiating an instance of the FlashFlood class:"
   ]
  },
  {
   "cell_type": "code",
   "execution_count": null,
   "metadata": {},
   "outputs": [],
   "source": [
    "import boto3\n",
    "s3 = boto3.resource('s3')\n",
    "\n",
    "from flashflood import FlashFlood"
   ]
  },
  {
   "cell_type": "markdown",
   "metadata": {},
   "source": [
    "flash-flood reads and writes events from a journal that is stored in an S3 bucket, so you must provide flash-flood with the name of an S3 bucket you have read/write access to:"
   ]
  },
  {
   "cell_type": "code",
   "execution_count": null,
   "metadata": {},
   "outputs": [],
   "source": [
    "ff = FlashFlood(s3, \"my-flashflood-test-bucket\", \"my_prefix\")"
   ]
  },
  {
   "cell_type": "markdown",
   "metadata": {},
   "source": [
    "We can create a flash-flood event by providing flash-flood with event data, a unique event identifier, and a timestamp:"
   ]
  },
  {
   "cell_type": "code",
   "execution_count": null,
   "metadata": {},
   "outputs": [],
   "source": [
    "import datetime\n",
    "import uuid\n",
    "\n",
    "event_data = b'my event data'\n",
    "event_uuid = str(uuid.uuid4())\n",
    "event_date = datetime.datetime.now()"
   ]
  },
  {
   "cell_type": "markdown",
   "metadata": {},
   "source": [
    "flash-flood exposes a CRUD API to access event information:"
   ]
  },
  {
   "cell_type": "code",
   "execution_count": null,
   "metadata": {},
   "outputs": [],
   "source": [
    "# Create\n",
    "ff.put(event_data, event_uuid, event_date)\n",
    "\n",
    "# Read\n",
    "event = ff.get_event(event_uuid)\n",
    "print(\"This is the data: \" + str(event.data))\n",
    "print(\"This is the date: \" + str(event.date))\n",
    "print(\"This is the event ID: \" + event.event_id)\n",
    "\n",
    "# Update\n",
    "new_event_data = b'i want to put new data'\n",
    "ff.update_event(event_uuid, new_event_data)\n",
    "print(\"This is the updated data: \" + str(ff.get_event(event_uuid).data))\n",
    "\n",
    "# Delete\n",
    "ff.delete_event(event_uuid)"
   ]
  },
  {
   "cell_type": "markdown",
   "metadata": {},
   "source": [
    "All events belong to a journal. Journals can be created ad-hoc or manually:"
   ]
  },
  {
   "cell_type": "code",
   "execution_count": null,
   "metadata": {},
   "outputs": [],
   "source": [
    "ff.journal(minimum_number_of_events=1)"
   ]
  },
  {
   "cell_type": "markdown",
   "metadata": {},
   "source": [
    "Journals can also be listed using the `ff.list_journals()` function in flash-flood.\n",
    "\n",
    "When events are created, they are assigned a date. You can create a stream of all events that have occurred between two given dates. The code below creates fake events, then creates a stream between two dates:"
   ]
  },
  {
   "cell_type": "code",
   "execution_count": null,
   "metadata": {},
   "outputs": [],
   "source": [
    "import json\n",
    "\n",
    "for i in range(40, 50):\n",
    "    event_data = json.dumps({'foo': i}).encode()\n",
    "    event_uuid = str(uuid.uuid4())\n",
    "    event_date = datetime.datetime.fromtimestamp(10000 * i)\n",
    "    ff.put(event_data, event_uuid, event_date)\n",
    "\n",
    "arbitrary_from_date = datetime.datetime.fromtimestamp(10000 * 42)\n",
    "arbitrary_to_date = datetime.datetime.fromtimestamp(10000 * 48)\n",
    "\n",
    "for event in ff.replay(from_date=arbitrary_from_date, to_date=arbitrary_to_date):\n",
    "    print(event.data)"
   ]
  },
  {
   "cell_type": "markdown",
   "metadata": {},
   "source": [
    "Since the event data is JSON, we can use JMESPath to filter it:"
   ]
  },
  {
   "cell_type": "code",
   "execution_count": null,
   "metadata": {},
   "outputs": [],
   "source": [
    "import jmespath\n",
    "\n",
    "events = []\n",
    "for event in ff.replay(from_date=arbitrary_from_date, to_date=arbitrary_to_date):\n",
    "    events.append(json.loads(event.data))\n",
    "\n",
    "expression = jmespath.compile('events[].foo')\n",
    "expression.search({'events': events})"
   ]
  }
 ],
 "metadata": {
  "kernelspec": {
   "display_name": "Python 3",
   "language": "python",
   "name": "python3"
  },
  "language_info": {
   "codemirror_mode": {
    "name": "ipython",
    "version": 3
   },
   "file_extension": ".py",
   "mimetype": "text/x-python",
   "name": "python",
   "nbconvert_exporter": "python",
   "pygments_lexer": "ipython3",
   "version": "3.7.6"
  }
 },
 "nbformat": 4,
 "nbformat_minor": 2
}
